{
 "cells": [
  {
   "cell_type": "code",
   "execution_count": null,
   "metadata": {},
   "outputs": [],
   "source": [
    "from langchain.tools import Tool\n",
    "from tespy.networks import Network\n",
    "from tespy.components import Compressor, Condenser, Pump, CycleCloser\n",
    "from tespy.connections import Connection\n",
    "\n",
    "# Define a TESPy function for heat pump modeling\n",
    "def simulate_heat_pump(sink_temp=60):\n",
    "    nw = Network(fluids=['water', 'R134a'])\n",
    "    cc = CycleCloser('CycleCloser')\n",
    "    comp = Compressor('Compressor')\n",
    "    cond = Condenser('Condenser')\n",
    "    \n",
    "    # Define connections and system setup...\n",
    "    \n",
    "    nw.solve('design')\n",
    "    cop = comp.P.val / cond.Q.val\n",
    "    return f\"Optimized heat pump COP: {cop:.2f}\"\n",
    "\n",
    "# Define as a LangChain tool\n",
    "tespy_tool = Tool(\n",
    "    name=\"TESPy Heat Pump Optimizer\",\n",
    "    func=simulate_heat_pump,\n",
    "    description=\"Runs a TESPy simulation for heat pump optimization.\"\n",
    ")\n",
    "\n",
    "# Now integrate this tool into a LangChain agent\n",
    "from langchain.chat_models import ChatOpenAI\n",
    "from langchain.agents import initialize_agent\n",
    "\n",
    "llm = ChatOpenAI(model=\"gpt-4-turbo\")\n",
    "agent = initialize_agent([tespy_tool], llm, agent=\"zero-shot-react-description\")\n",
    "\n",
    "# Example query\n",
    "response = agent.run(\"Optimize my heat pump for maximum COP at 60°C sink temperature.\")\n",
    "print(response)\n"
   ]
  },
  {
   "cell_type": "code",
   "execution_count": null,
   "metadata": {},
   "outputs": [],
   "source": [
    "from langchain.schema import SystemMessage, HumanMessage, AIMessage\n",
    "from langchain.chains import SimpleSequentialChain\n",
    "from langchain.prompts import PromptTemplate\n",
    "\n",
    "# Define prompt for running TESPy\n",
    "prompt_tespy = PromptTemplate(\n",
    "    input_variables=[\"temperature\"],\n",
    "    template=\"Run a TESPy simulation to optimize a heat pump with a sink temperature of {temperature}°C.\"\n",
    ")\n",
    "\n",
    "# Define function to execute TESPy simulation\n",
    "def run_tespy_simulation(temperature):\n",
    "    return simulate_heat_pump(sink_temp=temperature)\n",
    "\n",
    "# Create the chain\n",
    "tespy_chain = SimpleSequentialChain(\n",
    "    prompt=prompt_tespy, llm=llm, verbose=True\n",
    ")\n",
    "\n",
    "# Run the chain\n",
    "response = tespy_chain.run(\"60\")\n",
    "print(response)\n"
   ]
  }
 ],
 "metadata": {
  "language_info": {
   "name": "python"
  }
 },
 "nbformat": 4,
 "nbformat_minor": 2
}
